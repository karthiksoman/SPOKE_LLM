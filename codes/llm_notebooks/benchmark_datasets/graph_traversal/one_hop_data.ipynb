{
 "cells": [
  {
   "cell_type": "code",
   "execution_count": 106,
   "id": "0026eb23",
   "metadata": {},
   "outputs": [],
   "source": [
    "import pandas as pd\n",
    "import os\n",
    "from tqdm import tqdm\n",
    "from dotenv import load_dotenv\n",
    "from neo4j import GraphDatabase, basic_auth\n"
   ]
  },
  {
   "cell_type": "code",
   "execution_count": 2,
   "id": "db908d18",
   "metadata": {},
   "outputs": [],
   "source": [
    "load_dotenv(os.path.join(os.path.expanduser('~'), '.neo4j_config.env'))\n",
    "USER = os.environ.get('SPOKE_USER')\n",
    "PSW = os.environ.get('SPOKE_PSW')\n",
    "URI = os.environ.get('SPOKE_URI')\n"
   ]
  },
  {
   "cell_type": "code",
   "execution_count": 3,
   "id": "03589410",
   "metadata": {},
   "outputs": [
    {
     "name": "stdout",
     "output_type": "stream",
     "text": [
      "CPU times: user 140 ms, sys: 28.4 ms, total: 169 ms\n",
      "Wall time: 8.67 s\n"
     ]
    }
   ],
   "source": [
    "%%time\n",
    "\n",
    "DISEASE_QUERY = \"\"\"\n",
    "    MATCH(d:Disease)-[r:ASSOCIATES_DaG]->(g:Gene)\n",
    "    WHERE r.diseases_sources <> [\"textmining\"]\n",
    "    RETURN DISTINCT d.identifier AS d_id, d.name AS d_name\n",
    "\"\"\"\n",
    "\n",
    "auth = basic_auth(USER, PSW)\n",
    "sdb = GraphDatabase.driver(URI, auth=auth)\n",
    "\n",
    "disease_list = []\n",
    "with sdb.session() as session:\n",
    "    with session.begin_transaction() as tx:\n",
    "        result = tx.run(DISEASE_QUERY)\n",
    "        for row in result:\n",
    "            disease_list.append((row[\"d_id\"], row[\"d_name\"]))\n",
    "\n",
    "disease_df = pd.DataFrame(disease_list, columns=[\"disease_id\", \"disease_name\"])\n",
    "disease_id_list = list(disease_df.disease_id.values)\n"
   ]
  },
  {
   "cell_type": "code",
   "execution_count": 36,
   "id": "3229497d",
   "metadata": {},
   "outputs": [
    {
     "name": "stdout",
     "output_type": "stream",
     "text": [
      "CPU times: user 466 ms, sys: 56.6 ms, total: 523 ms\n",
      "Wall time: 1.35 s\n"
     ]
    }
   ],
   "source": [
    "%%time\n",
    "\n",
    "QUERY = \"\"\"\n",
    "    MATCH(c:Compound)-[r:TREATS_CtD]->(d1:Disease)-[:RESEMBLES_DrD]-(d2:Disease) \n",
    "    WHERE r.phase>=3 AND NOT EXISTS((c)-[:TREATS_CtD]->(d2)) AND d1.identifier IN {}\n",
    "    RETURN c.name as c_name, d1.name AS d1_name, d2.name AS d2_name LIMIT 20000\n",
    "\"\"\".format(disease_id_list)\n",
    "\n",
    "auth = basic_auth(USER, PSW)\n",
    "sdb = GraphDatabase.driver(URI, auth=auth)\n",
    "edge_list = []\n",
    "with sdb.session() as session:\n",
    "    with session.begin_transaction() as tx:\n",
    "        result = tx.run(QUERY)\n",
    "        for row in result:\n",
    "            edge_list.append((row[\"c_name\"], row[\"d1_name\"], row[\"d2_name\"]))\n",
    "\n",
    "drug_repurp_df = pd.DataFrame(edge_list, columns=[\"compound\", \"disease_1\", \"disease_2\"])\n",
    "\n"
   ]
  },
  {
   "cell_type": "code",
   "execution_count": 53,
   "id": "23af28e5",
   "metadata": {
    "scrolled": true
   },
   "outputs": [
    {
     "data": {
      "text/plain": [
       "(143, 4)"
      ]
     },
     "execution_count": 53,
     "metadata": {},
     "output_type": "execute_result"
    }
   ],
   "source": [
    "\n",
    "result_df = drug_repurp_df.groupby(\"disease_1\").agg({\n",
    "    'compound': list,\n",
    "    'disease_2': list\n",
    "}).reset_index()\n",
    "\n",
    "result_df.rename(columns={'compound': 'Compounds', 'disease_2': 'Diseases'}, inplace=True)\n",
    "result_df['Compounds'] = result_df['Compounds'].apply(lambda x: list(set(x)))\n",
    "result_df['Diseases'] = result_df['Diseases'].apply(lambda x: list(set(x)))\n",
    "result_df.loc[:, \"text\"] = \"What compounds treat '\" + result_df.disease_1 + \"' and what diseases resemble '\" + result_df.disease_1 + \"'?\"\n",
    "result_df.shape\n",
    "\n"
   ]
  },
  {
   "cell_type": "code",
   "execution_count": 60,
   "id": "5ae4c790",
   "metadata": {},
   "outputs": [
    {
     "data": {
      "text/plain": [
       "Index(['disease_1', 'Compounds', 'Diseases', 'text'], dtype='object')"
      ]
     },
     "execution_count": 60,
     "metadata": {},
     "output_type": "execute_result"
    }
   ],
   "source": [
    "result_df.columns"
   ]
  },
  {
   "cell_type": "code",
   "execution_count": 59,
   "id": "a7d1d945",
   "metadata": {},
   "outputs": [],
   "source": [
    "result_df.to_csv(\"../../../../data/benchmark_datasets/one_hop_graph_traversal_questions.csv\", index=False, header=True)\n"
   ]
  },
  {
   "cell_type": "markdown",
   "id": "5eca3280",
   "metadata": {},
   "source": [
    "### Changing the formatting of questions from 75th index onwards (Because questions until 75 are used for hyperparameter analysis)\n",
    "\n"
   ]
  },
  {
   "cell_type": "code",
   "execution_count": 43,
   "id": "ed0a31dd",
   "metadata": {},
   "outputs": [],
   "source": [
    "result_df = pd.read_csv(\"../../../../data/benchmark_datasets/one_hop_graph_traversal_questions.csv\")\n",
    "result_df = result_df.iloc[75:]\n",
    "result_df.drop(\"text\", axis=1, inplace=True)\n",
    "result_df.loc[:, \"text\"] = \"What are the drugs that treat '\" + result_df.disease_1 + \"'? And what diseases can these drugs be repurposed to? To answer the second question, find all diseases that resemble to '\" + result_df.disease_1 + \"'.\"\n",
    "\n",
    "result_df.to_csv(\"../../../../data/benchmark_datasets/drug_repurposing_questions.csv\", index=False, header=True)\n"
   ]
  },
  {
   "cell_type": "code",
   "execution_count": 54,
   "id": "9d08c66f",
   "metadata": {},
   "outputs": [
    {
     "data": {
      "text/plain": [
       "\"What are the drugs that treat 'hereditary hemorrhagic telangiectasia'? And what diseases can these drugs be repurposed to? To answer the second question, find all diseases that resemble to 'hereditary hemorrhagic telangiectasia'.\""
      ]
     },
     "execution_count": 54,
     "metadata": {},
     "output_type": "execute_result"
    }
   ],
   "source": [
    "result_df.iloc[3].text\n",
    "\n",
    "    "
   ]
  },
  {
   "cell_type": "code",
   "execution_count": 47,
   "id": "2e1190e0",
   "metadata": {},
   "outputs": [
    {
     "data": {
      "text/plain": [
       "\"['BEVACIZUMAB', 'Propranolol', 'Mupirocin', 'Sodium Chloride', 'Tranexamic acid']\""
      ]
     },
     "execution_count": 47,
     "metadata": {},
     "output_type": "execute_result"
    }
   ],
   "source": [
    "result_df.iloc[3].Compounds\n"
   ]
  },
  {
   "cell_type": "code",
   "execution_count": 53,
   "id": "ccfb9262",
   "metadata": {},
   "outputs": [
    {
     "data": {
      "text/plain": [
       "'[\\'hepatopulmonary syndrome\\', \\'Coats disease\\', \\'polycythemia vera\\', \\'nose disease\\', \"von Willebrand\\'s disease\", \\'endocarditis\\', \\'hepatic encephalopathy\\', \\'Raynaud disease\\', \\'vascular skin disease\\', \\'hepatic coma\\', \\'angiodysplasia\\', \\'telangiectasis\\', \\'intracranial embolism\\', \\'arteriovenous malformations of the brain\\']'"
      ]
     },
     "execution_count": 53,
     "metadata": {},
     "output_type": "execute_result"
    }
   ],
   "source": [
    "result_df.iloc[3].Diseases"
   ]
  },
  {
   "cell_type": "code",
   "execution_count": 30,
   "id": "0c8a681a",
   "metadata": {},
   "outputs": [
    {
     "name": "stdout",
     "output_type": "stream",
     "text": [
      "What compounds treat 'GM2 gangliosidosis' and what diseases resemble 'GM2 gangliosidosis'?\n",
      "['Miglustat']\n",
      "['lateral sclerosis', 'gangliosidosis', 'motor neuron disease', 'GM1 gangliosidosis', 'anterior horn cell disease', 'Tay-Sachs disease']\n"
     ]
    }
   ],
   "source": [
    "ind = 5\n",
    "print(result_df.text.values[ind])\n",
    "print(result_df.Compounds.values[ind])\n",
    "print(result_df.Diseases.values[ind])\n"
   ]
  },
  {
   "cell_type": "code",
   "execution_count": 17,
   "id": "34614417",
   "metadata": {},
   "outputs": [
    {
     "data": {
      "text/html": [
       "<div>\n",
       "<style scoped>\n",
       "    .dataframe tbody tr th:only-of-type {\n",
       "        vertical-align: middle;\n",
       "    }\n",
       "\n",
       "    .dataframe tbody tr th {\n",
       "        vertical-align: top;\n",
       "    }\n",
       "\n",
       "    .dataframe thead th {\n",
       "        text-align: right;\n",
       "    }\n",
       "</style>\n",
       "<table border=\"1\" class=\"dataframe\">\n",
       "  <thead>\n",
       "    <tr style=\"text-align: right;\">\n",
       "      <th></th>\n",
       "      <th>disease_1</th>\n",
       "      <th>Compounds</th>\n",
       "      <th>Diseases</th>\n",
       "      <th>text</th>\n",
       "      <th>disease_count</th>\n",
       "    </tr>\n",
       "  </thead>\n",
       "  <tbody>\n",
       "    <tr>\n",
       "      <th>19</th>\n",
       "      <td>Sjogren-Larsson syndrome</td>\n",
       "      <td>['2-(3-Amino-6-chloroquinolin-2-yl)propan-2-ol']</td>\n",
       "      <td>['autosomal recessive congenital ichthyosis', ...</td>\n",
       "      <td>What compounds treat 'Sjogren-Larsson syndrome...</td>\n",
       "      <td>3</td>\n",
       "    </tr>\n",
       "    <tr>\n",
       "      <th>61</th>\n",
       "      <td>fatty liver disease</td>\n",
       "      <td>['Saroglitazar', 'Rimonabant', 'Metformin', 'D...</td>\n",
       "      <td>['drug-induced hepatitis', 'hemolytic anemia',...</td>\n",
       "      <td>What compounds treat 'fatty liver disease' and...</td>\n",
       "      <td>3</td>\n",
       "    </tr>\n",
       "    <tr>\n",
       "      <th>115</th>\n",
       "      <td>pituitary adenoma</td>\n",
       "      <td>['Lanreotide acetate', 'Cabergoline', 'Iopamid...</td>\n",
       "      <td>['adamantinous craniopharyngioma', 'craniophar...</td>\n",
       "      <td>What compounds treat 'pituitary adenoma' and w...</td>\n",
       "      <td>3</td>\n",
       "    </tr>\n",
       "  </tbody>\n",
       "</table>\n",
       "</div>"
      ],
      "text/plain": [
       "                    disease_1  \\\n",
       "19   Sjogren-Larsson syndrome   \n",
       "61        fatty liver disease   \n",
       "115         pituitary adenoma   \n",
       "\n",
       "                                             Compounds  \\\n",
       "19    ['2-(3-Amino-6-chloroquinolin-2-yl)propan-2-ol']   \n",
       "61   ['Saroglitazar', 'Rimonabant', 'Metformin', 'D...   \n",
       "115  ['Lanreotide acetate', 'Cabergoline', 'Iopamid...   \n",
       "\n",
       "                                              Diseases  \\\n",
       "19   ['autosomal recessive congenital ichthyosis', ...   \n",
       "61   ['drug-induced hepatitis', 'hemolytic anemia',...   \n",
       "115  ['adamantinous craniopharyngioma', 'craniophar...   \n",
       "\n",
       "                                                  text  disease_count  \n",
       "19   What compounds treat 'Sjogren-Larsson syndrome...              3  \n",
       "61   What compounds treat 'fatty liver disease' and...              3  \n",
       "115  What compounds treat 'pituitary adenoma' and w...              3  "
      ]
     },
     "execution_count": 17,
     "metadata": {},
     "output_type": "execute_result"
    }
   ],
   "source": [
    "import ast\n",
    "result_df.loc[:,\"disease_count\"] = result_df.Diseases.apply(lambda x:len(ast.literal_eval(x)))\n",
    "\n",
    "result_df[result_df.disease_count == 3]\n"
   ]
  },
  {
   "cell_type": "code",
   "execution_count": 83,
   "id": "9ceb5edb",
   "metadata": {},
   "outputs": [
    {
     "name": "stdout",
     "output_type": "stream",
     "text": [
      "What are the drugs that treat 'hereditary hemorrhagic telangiectasia'? And what diseases can these drugs be repurposed to? To answer the second question, find all diseases that resemble to 'hereditary hemorrhagic telangiectasia'.\n"
     ]
    }
   ],
   "source": [
    "df = pd.read_csv(\"../../../../data/benchmark_datasets/drug_repurposing_questions.csv\")\n",
    "print(df.text.values[3])\n"
   ]
  },
  {
   "cell_type": "code",
   "execution_count": 82,
   "id": "ccb21ab9",
   "metadata": {},
   "outputs": [
    {
     "data": {
      "text/plain": [
       "'[\\'hepatopulmonary syndrome\\', \\'Coats disease\\', \\'polycythemia vera\\', \\'nose disease\\', \"von Willebrand\\'s disease\", \\'endocarditis\\', \\'hepatic encephalopathy\\', \\'Raynaud disease\\', \\'vascular skin disease\\', \\'hepatic coma\\', \\'angiodysplasia\\', \\'telangiectasis\\', \\'intracranial embolism\\', \\'arteriovenous malformations of the brain\\']'"
      ]
     },
     "execution_count": 82,
     "metadata": {},
     "output_type": "execute_result"
    }
   ],
   "source": [
    "df.Diseases.values[3]"
   ]
  },
  {
   "cell_type": "code",
   "execution_count": null,
   "id": "82a5a9f6",
   "metadata": {},
   "outputs": [],
   "source": [
    "If Coats disease resembles hereditary hemorrhagic telangiectasia, what compounds that treat hereditary hemorrhagic telangiectasia can be repurposed to treat Coats disease?\n"
   ]
  },
  {
   "cell_type": "code",
   "execution_count": 101,
   "id": "0b31415e",
   "metadata": {},
   "outputs": [],
   "source": [
    "import random\n",
    "random.seed(1)\n",
    "drug_rp_data = []\n",
    "for index, row in df.iterrows():\n",
    "    disease_that_need_repurposing = random.sample(ast.literal_eval(row[\"Diseases\"]), len(ast.literal_eval(row[\"Diseases\"])))[0]\n",
    "    ref_disease = row[\"disease_1\"]\n",
    "    cmpGroundTruth = ast.literal_eval(row[\"Compounds\"])\n",
    "    text = \"If {} resembles {}, what compounds that treat {} can be repurposed to treat {}?\".format(disease_that_need_repurposing, ref_disease, ref_disease, disease_that_need_repurposing)\n",
    "    drug_rp_data.append((disease_that_need_repurposing, ref_disease, cmpGroundTruth, text))\n",
    "drug_rp_data_df = pd.DataFrame(drug_rp_data, columns=[\"disease_in_question\", \"refDisease\", \"compoundGroundTruth\", \"text\"])\n",
    "    "
   ]
  },
  {
   "cell_type": "code",
   "execution_count": 104,
   "id": "18c92e20",
   "metadata": {},
   "outputs": [],
   "source": [
    "drug_rp_data_df.to_csv(\"../../../../data/benchmark_datasets/drug_repurposing_questions_v2.csv\")\n"
   ]
  },
  {
   "cell_type": "code",
   "execution_count": 105,
   "id": "57879027",
   "metadata": {},
   "outputs": [
    {
     "data": {
      "text/plain": [
       "'If atypical hemolytic-uremic syndrome resembles hemolytic-uremic syndrome, what compounds that treat hemolytic-uremic syndrome can be repurposed to treat atypical hemolytic-uremic syndrome?'"
      ]
     },
     "execution_count": 105,
     "metadata": {},
     "output_type": "execute_result"
    }
   ],
   "source": [
    "drug_rp_data_df.text.values[0]"
   ]
  },
  {
   "cell_type": "code",
   "execution_count": 107,
   "id": "0b214d3b",
   "metadata": {},
   "outputs": [],
   "source": [
    "df = pd.read_csv(\"../../../../data/benchmark_datasets/one_hop_graph_traversal_questions.csv\")\n"
   ]
  },
  {
   "cell_type": "code",
   "execution_count": 118,
   "id": "06e365c8",
   "metadata": {},
   "outputs": [
    {
     "data": {
      "text/plain": [
       "\"What compounds treat 'Alagille syndrome' and what diseases resemble 'Alagille syndrome'?\""
      ]
     },
     "execution_count": 118,
     "metadata": {},
     "output_type": "execute_result"
    }
   ],
   "source": [
    "ind = 0\n",
    "df.text.values[ind]"
   ]
  },
  {
   "cell_type": "code",
   "execution_count": 121,
   "id": "d893f377",
   "metadata": {},
   "outputs": [
    {
     "data": {
      "text/plain": [
       "\"['Odevixibat', 'Maralixibat']\""
      ]
     },
     "execution_count": 121,
     "metadata": {},
     "output_type": "execute_result"
    }
   ],
   "source": [
    "df.Compounds.values[ind]\n"
   ]
  },
  {
   "cell_type": "code",
   "execution_count": 122,
   "id": "d9eba57c",
   "metadata": {},
   "outputs": [
    {
     "data": {
      "text/plain": [
       "\"['optic disk drusen', 'intrahepatic cholestasis', 'Moyamoya disease', 'Williams-Beuren syndrome', 'pulmonary valve stenosis', 'xanthomatosis']\""
      ]
     },
     "execution_count": 122,
     "metadata": {},
     "output_type": "execute_result"
    }
   ],
   "source": [
    "df.Diseases.values[ind]"
   ]
  },
  {
   "cell_type": "code",
   "execution_count": null,
   "id": "621f9daa",
   "metadata": {},
   "outputs": [],
   "source": []
  }
 ],
 "metadata": {
  "kernelspec": {
   "display_name": "Python 3 (ipykernel)",
   "language": "python",
   "name": "python3"
  },
  "language_info": {
   "codemirror_mode": {
    "name": "ipython",
    "version": 3
   },
   "file_extension": ".py",
   "mimetype": "text/x-python",
   "name": "python",
   "nbconvert_exporter": "python",
   "pygments_lexer": "ipython3",
   "version": "3.10.9"
  }
 },
 "nbformat": 4,
 "nbformat_minor": 5
}
