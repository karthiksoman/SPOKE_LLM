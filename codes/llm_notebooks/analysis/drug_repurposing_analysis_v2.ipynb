{
 "cells": [
  {
   "cell_type": "code",
   "execution_count": 214,
   "id": "c6619ffe",
   "metadata": {},
   "outputs": [],
   "source": [
    "import pandas as pd\n",
    "import numpy as np\n",
    "import json\n",
    "import ast\n",
    "from tqdm import tqdm\n",
    "import re\n",
    "import os\n",
    "import seaborn as sns\n",
    "import matplotlib.pyplot as plt\n",
    "from neo4j import GraphDatabase, basic_auth\n",
    "import random\n",
    "from scipy.stats import sem\n",
    "import openai\n",
    "import os\n",
    "from dotenv import load_dotenv, find_dotenv"
   ]
  },
  {
   "cell_type": "code",
   "execution_count": 215,
   "id": "3dca94df",
   "metadata": {},
   "outputs": [],
   "source": [
    "config_file = os.path.join(os.path.expanduser('~'), '.gpt_config.env')\n",
    "load_dotenv(config_file)\n",
    "api_key = os.environ.get('API_KEY')\n",
    "api_version = os.environ.get('API_VERSION')\n",
    "resource_endpoint = os.environ.get('RESOURCE_ENDPOINT')\n",
    "openai.api_type = \"azure\"\n",
    "openai.api_key = api_key\n",
    "openai.api_base = resource_endpoint\n",
    "openai.api_version = api_version\n"
   ]
  },
  {
   "cell_type": "code",
   "execution_count": 216,
   "id": "ffb8953e",
   "metadata": {},
   "outputs": [],
   "source": [
    "def jaccard_similarity(list1, list2):\n",
    "    if list1 is not None and list2 is not None and len(list1) > 0 and len(list2) > 0:\n",
    "        list1 = [item.lower() for item in list1]\n",
    "        list2 = [item.lower() for item in list2]\n",
    "\n",
    "        set1 = set(list1)\n",
    "        set2 = set(list2)\n",
    "        intersection = len(set1.intersection(set2))\n",
    "        union = len(set1) + len(set2) - intersection\n",
    "        if union == 0:\n",
    "            return 0.0\n",
    "        else:\n",
    "            jaccard_similarity = intersection / union\n",
    "            return jaccard_similarity\n",
    "    else:\n",
    "        return 0.0\n",
    "\n",
    "    \n",
    "def extract_dict_items(input_string):\n",
    "    match = re.search(r'\\[([^]]*)\\]', input_string)\n",
    "    if match:\n",
    "        compounds = match.group(1).split(', ')\n",
    "        return compounds\n",
    "    else:\n",
    "        return None\n",
    "\n",
    "def extract_numbered_items(input_string):\n",
    "    pattern = r'\\d+\\.\\s+([^\\n]+)'\n",
    "    matches = re.findall(pattern, input_string)\n",
    "    item_names = []\n",
    "    for match in matches:\n",
    "        item_name = match.split(':')[0].strip()\n",
    "        item_name = item_name.split('-')[0].strip()  # Remove any text after \"-\"\n",
    "        item_names.append(item_name)\n",
    "    return item_names\n",
    "\n",
    "def extract_answer(text):\n",
    "    pattern = r'{[^{}]*}'\n",
    "    match = re.search(pattern, text)\n",
    "    if match:\n",
    "        return match.group()\n",
    "    else:\n",
    "        return None\n",
    "    \n"
   ]
  },
  {
   "cell_type": "code",
   "execution_count": 217,
   "id": "0065bc22",
   "metadata": {},
   "outputs": [],
   "source": [
    "PARENT_PATH = \"../../../data/analysis_results/\"\n",
    "\n",
    "GPT_FILES = [\n",
    "    \"gpt_35_turbo_entity_recognition_based_node_retrieval_rag_based_drug_repurposing_questions_response_v2.csv\",\n",
    "    \"gpt_4_entity_recognition_based_node_retrieval_rag_based_drug_repurposing_questions_response_v2.csv\"\n",
    "]\n",
    "LLAMA_FILES = [\n",
    "    \"Llama_2_13b_chat_hf_entity_recognition_based_node_retrieval_rag_based_drug_repurposing_questions_response_v2.csv\"\n",
    "]\n",
    "\n",
    "GPT_MODEL_LIST = [\"GPT-3.5-Turbo\", \"GPT-4\"]\n",
    "LLAMA_MODEL_LIST = [\"Llama-2-13b\"]\n",
    "\n",
    "\n",
    "MODEL_LIST = [\"Llama-2-13b\", \"GPT-3.5-Turbo\", \"GPT-4\"]\n"
   ]
  },
  {
   "cell_type": "code",
   "execution_count": 218,
   "id": "20cb3f38",
   "metadata": {},
   "outputs": [],
   "source": [
    "llama_df = pd.read_csv(os.path.join(PARENT_PATH, LLAMA_FILES[0]))\n",
    "llama_performance_list = []\n",
    "for index, row in llama_df.iterrows():\n",
    "    groundTruth = ast.literal_eval(row[\"compoundGroundTruth\"])\n",
    "    extracted_answer = extract_answer(row[\"llm_answer\"])\n",
    "    if extracted_answer:\n",
    "        extracted_answer = extract_dict_items(extracted_answer)\n",
    "    else:\n",
    "        extracted_answer = extract_numbered_items(row[\"llm_answer\"])\n",
    "    llama_performance_list.append(jaccard_similarity(groundTruth, extracted_answer))\n",
    "llama_drug_repurpose_perf = pd.DataFrame({\n",
    "    'performance_mean': [np.mean(llama_performance_list)],\n",
    "    'performance_std': [np.std(llama_performance_list)],\n",
    "    'performance_sem': [sem(llama_performance_list)],\n",
    "    'model_name': LLAMA_MODEL_LIST\n",
    "})\n",
    "\n",
    "gpt_35_df = pd.read_csv(os.path.join(PARENT_PATH, GPT_FILES[0]))\n",
    "gpt_35_performance_list = []\n",
    "for index, row in gpt_35_df.iterrows():\n",
    "    groundTruth = ast.literal_eval(row[\"compoundGroundTruth\"])\n",
    "    extracted_answer = json.loads(row[\"llm_answer\"])[\"Compounds\"]\n",
    "    gpt_35_performance_list.append(jaccard_similarity(groundTruth, extracted_answer))\n",
    "gpt_35_drug_repurpose_perf = pd.DataFrame({\n",
    "    'performance_mean': [np.mean(gpt_35_performance_list)],\n",
    "    'performance_std': [np.std(gpt_35_performance_list)],\n",
    "    'performance_sem': [sem(gpt_35_performance_list)],\n",
    "    'model_name': GPT_MODEL_LIST[0]\n",
    "})\n",
    "\n",
    "gpt_4_df = pd.read_csv(os.path.join(PARENT_PATH, GPT_FILES[1]))\n",
    "gpt_4_performance_list = []\n",
    "for index, row in gpt_4_df.iterrows():\n",
    "    groundTruth = ast.literal_eval(row[\"compoundGroundTruth\"])\n",
    "    extracted_answer = json.loads(row[\"llm_answer\"])[\"Compounds\"]\n",
    "    gpt_4_performance_list.append(jaccard_similarity(groundTruth, extracted_answer))\n",
    "gpt_4_drug_repurpose_perf = pd.DataFrame({\n",
    "    'performance_mean': [np.mean(gpt_4_performance_list)],\n",
    "    'performance_std': [np.std(gpt_4_performance_list)],\n",
    "    'performance_sem': [sem(gpt_4_performance_list)],\n",
    "    'model_name': GPT_MODEL_LIST[1]\n",
    "})\n"
   ]
  },
  {
   "cell_type": "code",
   "execution_count": 219,
   "id": "dcc33eb9",
   "metadata": {},
   "outputs": [
    {
     "data": {
      "text/html": [
       "<div>\n",
       "<style scoped>\n",
       "    .dataframe tbody tr th:only-of-type {\n",
       "        vertical-align: middle;\n",
       "    }\n",
       "\n",
       "    .dataframe tbody tr th {\n",
       "        vertical-align: top;\n",
       "    }\n",
       "\n",
       "    .dataframe thead th {\n",
       "        text-align: right;\n",
       "    }\n",
       "</style>\n",
       "<table border=\"1\" class=\"dataframe\">\n",
       "  <thead>\n",
       "    <tr style=\"text-align: right;\">\n",
       "      <th></th>\n",
       "      <th>performance_mean</th>\n",
       "      <th>performance_std</th>\n",
       "      <th>performance_sem</th>\n",
       "      <th>model_name</th>\n",
       "    </tr>\n",
       "  </thead>\n",
       "  <tbody>\n",
       "    <tr>\n",
       "      <th>0</th>\n",
       "      <td>0.448763</td>\n",
       "      <td>0.346651</td>\n",
       "      <td>0.042350</td>\n",
       "      <td>Llama-2-13b</td>\n",
       "    </tr>\n",
       "    <tr>\n",
       "      <th>1</th>\n",
       "      <td>0.644138</td>\n",
       "      <td>0.349948</td>\n",
       "      <td>0.042753</td>\n",
       "      <td>GPT-3.5-Turbo</td>\n",
       "    </tr>\n",
       "    <tr>\n",
       "      <th>2</th>\n",
       "      <td>0.756671</td>\n",
       "      <td>0.286475</td>\n",
       "      <td>0.034998</td>\n",
       "      <td>GPT-4</td>\n",
       "    </tr>\n",
       "  </tbody>\n",
       "</table>\n",
       "</div>"
      ],
      "text/plain": [
       "   performance_mean  performance_std  performance_sem     model_name\n",
       "0          0.448763         0.346651         0.042350    Llama-2-13b\n",
       "1          0.644138         0.349948         0.042753  GPT-3.5-Turbo\n",
       "2          0.756671         0.286475         0.034998          GPT-4"
      ]
     },
     "execution_count": 219,
     "metadata": {},
     "output_type": "execute_result"
    }
   ],
   "source": [
    "llm_drug_repurpose_perf = pd.concat([llama_drug_repurpose_perf, gpt_35_drug_repurpose_perf, gpt_4_drug_repurpose_perf], ignore_index=True)\n",
    "llm_drug_repurpose_perf\n"
   ]
  },
  {
   "cell_type": "code",
   "execution_count": 220,
   "id": "878c1b01",
   "metadata": {},
   "outputs": [
    {
     "data": {
      "image/png": "[encoded data removed]",
      "text/plain": [
       "<Figure size 300x500 with 1 Axes>"
      ]
     },
     "metadata": {},
     "output_type": "display_data"
    }
   ],
   "source": [
    "\n",
    "\n",
    "params = MODEL_LIST\n",
    "mean_performance = llm_drug_repurpose_perf.performance_mean.values\n",
    "std_deviation = llm_drug_repurpose_perf.performance_std.values\n",
    "sem_value = llm_drug_repurpose_perf.performance_sem.values\n",
    "\n",
    "fig = plt.figure(figsize=(3, 5))\n",
    "plt.errorbar(params, mean_performance, yerr=sem_value, fmt='o-', capsize=5, label='Performance', color=\"black\")\n",
    "plt.ylabel('Mean Performance')\n",
    "plt.grid(True)\n",
    "plt.ylim(0.35,0.8)\n",
    "plt.show()\n",
    "\n",
    "# figure_folder_name = \"drug_repurposing\"\n",
    "# fig_filename = \"../../../data/analysis_results/figures/{}/performance_comparison_line_plot_v2.svg\".format(figure_folder_name)\n",
    "# fig.savefig(fig_filename, format='svg', bbox_inches='tight')\n",
    "\n"
   ]
  },
  {
   "cell_type": "code",
   "execution_count": 221,
   "id": "da64acfd",
   "metadata": {},
   "outputs": [
    {
     "data": {
      "image/png": "[encoded data removed]",
      "text/plain": [
       "<Figure size 400x200 with 1 Axes>"
      ]
     },
     "metadata": {},
     "output_type": "display_data"
    }
   ],
   "source": [
    "list1 = llama_performance_list\n",
    "list2 = gpt_35_performance_list\n",
    "list3 = gpt_4_performance_list\n",
    "data_to_plot = pd.DataFrame({\n",
    "    'Model': [MODEL_LIST[0]] * len(list1) + [MODEL_LIST[1]] * len(list2) + [MODEL_LIST[2]] * len(list3),\n",
    "    'Performance': list1 + list2 + list3\n",
    "})\n",
    "\n",
    "fig = plt.figure(figsize=(4, 2))\n",
    "# bar_plot = sns.barplot(x='Model', y='Performance', data=data_to_plot, capsize=0.2, errcolor='k', errorbar=(\"ci\", 95))\n",
    "bar_plot = sns.barplot(x='Performance', y='Model', data=data_to_plot, capsize=0.2, errcolor='black', errorbar=(\"ci\", 95))\n",
    "# bar_plot.set_xticklabels(bar_plot.get_xticklabels(), rotation=90)\n",
    "sns.despine(top=True, right=True)\n",
    "plt.xlabel('Performance')\n",
    "plt.ylabel('')\n",
    "plt.show()\n",
    "\n",
    "# figure_folder_name = \"drug_repurposing\"\n",
    "# fig_filename = \"../../../data/analysis_results/figures/{}/performance_comparison_box_plot_v2.svg\".format(figure_folder_name)\n",
    "# fig.savefig(fig_filename, format='svg', bbox_inches='tight')\n"
   ]
  },
  {
   "cell_type": "code",
   "execution_count": 230,
   "id": "4dbd7a88",
   "metadata": {},
   "outputs": [
    {
     "data": {
      "text/plain": [
       "['Llama-2-13b', 'GPT-3.5-Turbo', 'GPT-4']"
      ]
     },
     "execution_count": 230,
     "metadata": {},
     "output_type": "execute_result"
    }
   ],
   "source": [
    "MODEL_LIST"
   ]
  },
  {
   "cell_type": "code",
   "execution_count": 232,
   "id": "747f3f43",
   "metadata": {},
   "outputs": [
    {
     "name": "stdout",
     "output_type": "stream",
     "text": [
      "Mean :  0.7566705824010453\n",
      "SEM :  0.03499844743898423\n",
      "The 95% confidence interval is (0.6868133889541594, 0.8265277758479312)\n"
     ]
    },
    {
     "name": "stderr",
     "output_type": "stream",
     "text": [
      "/var/folders/p1/h56gxdhs5vgb0ztp7h4z606h0000gn/T/ipykernel_10929/1245357783.py:9: DeprecationWarning: Use of keyword argument 'alpha' for method 'interval' is deprecated and wil be removed in SciPy 1.11.0. Use first positional argument or keyword argument 'confidence' instead.\n",
      "  ci = st.t.interval(alpha=0.95, df=len(subset['Performance'])-1, loc=mean_performance, scale=sem)\n"
     ]
    }
   ],
   "source": [
    "import scipy.stats as st\n",
    "\n",
    "subset = data_to_plot[data_to_plot.Model == \"GPT-4\"]\n",
    "\n",
    "mean_performance = subset['Performance'].mean()\n",
    "\n",
    "sem = st.sem(subset['Performance'])\n",
    "\n",
    "ci = st.t.interval(alpha=0.95, df=len(subset['Performance'])-1, loc=mean_performance, scale=sem)\n",
    "\n",
    "print(\"Mean : \", mean_performance)\n",
    "print(\"SEM : \", sem)\n",
    "print(f\"The 95% confidence interval is {ci}\")\n"
   ]
  },
  {
   "cell_type": "code",
   "execution_count": 233,
   "id": "9d40c0e3",
   "metadata": {},
   "outputs": [
    {
     "data": {
      "text/html": [
       "<div>\n",
       "<style scoped>\n",
       "    .dataframe tbody tr th:only-of-type {\n",
       "        vertical-align: middle;\n",
       "    }\n",
       "\n",
       "    .dataframe tbody tr th {\n",
       "        vertical-align: top;\n",
       "    }\n",
       "\n",
       "    .dataframe thead th {\n",
       "        text-align: right;\n",
       "    }\n",
       "</style>\n",
       "<table border=\"1\" class=\"dataframe\">\n",
       "  <thead>\n",
       "    <tr style=\"text-align: right;\">\n",
       "      <th></th>\n",
       "      <th>Model</th>\n",
       "      <th>Performance</th>\n",
       "    </tr>\n",
       "  </thead>\n",
       "  <tbody>\n",
       "    <tr>\n",
       "      <th>0</th>\n",
       "      <td>Llama-2-13b</td>\n",
       "      <td>0.666667</td>\n",
       "    </tr>\n",
       "    <tr>\n",
       "      <th>1</th>\n",
       "      <td>Llama-2-13b</td>\n",
       "      <td>0.214286</td>\n",
       "    </tr>\n",
       "    <tr>\n",
       "      <th>2</th>\n",
       "      <td>Llama-2-13b</td>\n",
       "      <td>0.185185</td>\n",
       "    </tr>\n",
       "    <tr>\n",
       "      <th>3</th>\n",
       "      <td>Llama-2-13b</td>\n",
       "      <td>0.800000</td>\n",
       "    </tr>\n",
       "    <tr>\n",
       "      <th>4</th>\n",
       "      <td>Llama-2-13b</td>\n",
       "      <td>0.000000</td>\n",
       "    </tr>\n",
       "    <tr>\n",
       "      <th>...</th>\n",
       "      <td>...</td>\n",
       "      <td>...</td>\n",
       "    </tr>\n",
       "    <tr>\n",
       "      <th>199</th>\n",
       "      <td>GPT-4</td>\n",
       "      <td>0.500000</td>\n",
       "    </tr>\n",
       "    <tr>\n",
       "      <th>200</th>\n",
       "      <td>GPT-4</td>\n",
       "      <td>0.818182</td>\n",
       "    </tr>\n",
       "    <tr>\n",
       "      <th>201</th>\n",
       "      <td>GPT-4</td>\n",
       "      <td>0.800000</td>\n",
       "    </tr>\n",
       "    <tr>\n",
       "      <th>202</th>\n",
       "      <td>GPT-4</td>\n",
       "      <td>0.775000</td>\n",
       "    </tr>\n",
       "    <tr>\n",
       "      <th>203</th>\n",
       "      <td>GPT-4</td>\n",
       "      <td>0.714286</td>\n",
       "    </tr>\n",
       "  </tbody>\n",
       "</table>\n",
       "<p>204 rows × 2 columns</p>\n",
       "</div>"
      ],
      "text/plain": [
       "           Model  Performance\n",
       "0    Llama-2-13b     0.666667\n",
       "1    Llama-2-13b     0.214286\n",
       "2    Llama-2-13b     0.185185\n",
       "3    Llama-2-13b     0.800000\n",
       "4    Llama-2-13b     0.000000\n",
       "..           ...          ...\n",
       "199        GPT-4     0.500000\n",
       "200        GPT-4     0.818182\n",
       "201        GPT-4     0.800000\n",
       "202        GPT-4     0.775000\n",
       "203        GPT-4     0.714286\n",
       "\n",
       "[204 rows x 2 columns]"
      ]
     },
     "execution_count": 233,
     "metadata": {},
     "output_type": "execute_result"
    }
   ],
   "source": [
    "data_to_plot"
   ]
  },
  {
   "cell_type": "code",
   "execution_count": null,
   "id": "cc1a9baf",
   "metadata": {},
   "outputs": [],
   "source": []
  }
 ],
 "metadata": {
  "kernelspec": {
   "display_name": "Python 3 (ipykernel)",
   "language": "python",
   "name": "python3"
  },
  "language_info": {
   "codemirror_mode": {
    "name": "ipython",
    "version": 3
   },
   "file_extension": ".py",
   "mimetype": "text/x-python",
   "name": "python",
   "nbconvert_exporter": "python",
   "pygments_lexer": "ipython3",
   "version": "3.10.9"
  }
 },
 "nbformat": 4,
 "nbformat_minor": 5
}
