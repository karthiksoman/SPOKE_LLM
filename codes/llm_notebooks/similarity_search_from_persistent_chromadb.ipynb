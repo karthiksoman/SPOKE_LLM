{
 "cells": [
  {
   "cell_type": "code",
   "execution_count": 10,
   "id": "3d2e525d",
   "metadata": {},
   "outputs": [],
   "source": [
    "# from langchain.vectorstores import Chroma\n",
    "import chromadb\n"
   ]
  },
  {
   "cell_type": "code",
   "execution_count": 2,
   "id": "3d47c2e5",
   "metadata": {},
   "outputs": [],
   "source": [
    "chroma_db_path = \"../data/chroma_disease_gene_knowledge\"\n",
    "collection_name = \"disease_gene_knowledge\""
   ]
  },
  {
   "cell_type": "code",
   "execution_count": null,
   "id": "9b0a431b",
   "metadata": {},
   "outputs": [],
   "source": [
    "persistent_client = chromadb.PersistentClient(path=chroma_db_path)\n",
    "collection = persistent_client.get_collection(collection_name)\n"
   ]
  },
  {
   "cell_type": "code",
   "execution_count": 15,
   "id": "562d7020",
   "metadata": {},
   "outputs": [],
   "source": [
    "results = collection.query(\n",
    "    query_texts=[\"Do you know anything about glucose related disease?\"],\n",
    "    n_results=2)\n"
   ]
  },
  {
   "cell_type": "code",
   "execution_count": 16,
   "id": "2f75c235",
   "metadata": {},
   "outputs": [
    {
     "data": {
      "text/plain": [
       "{'ids': [['4', '6']],\n",
       " 'distances': [[1.1298751831054688, 1.1298751831054688]],\n",
       " 'metadatas': [[{'type': 'disease_gene_knowledge_from_spoke'},\n",
       "   {'type': 'disease_gene_knowledge_from_spoke'}]],\n",
       " 'embeddings': None,\n",
       " 'documents': [['Disease glycogen storage disease II ASSOCIATES with Gene GAA. This association is from the source database DISEASES. Based on the source database, this association has a confidence score of 3.58',\n",
       "   'Disease glycogen storage disease II ASSOCIATES with Gene GAA. This association is from the source database DISEASES. Based on the source database, this association has a confidence score of 3.58']]}"
      ]
     },
     "execution_count": 16,
     "metadata": {},
     "output_type": "execute_result"
    }
   ],
   "source": [
    "results"
   ]
  },
  {
   "cell_type": "code",
   "execution_count": null,
   "id": "8dd28ac0",
   "metadata": {},
   "outputs": [],
   "source": []
  }
 ],
 "metadata": {
  "kernelspec": {
   "display_name": "Python 3 (ipykernel)",
   "language": "python",
   "name": "python3"
  },
  "language_info": {
   "codemirror_mode": {
    "name": "ipython",
    "version": 3
   },
   "file_extension": ".py",
   "mimetype": "text/x-python",
   "name": "python",
   "nbconvert_exporter": "python",
   "pygments_lexer": "ipython3",
   "version": "3.10.9"
  }
 },
 "nbformat": 4,
 "nbformat_minor": 5
}
