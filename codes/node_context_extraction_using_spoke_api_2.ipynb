{
 "cells": [
  {
   "cell_type": "code",
   "execution_count": 14,
   "id": "3e6816c1",
   "metadata": {},
   "outputs": [],
   "source": [
    "import requests\n",
    "import pandas as pd\n",
    "from tenacity import retry, stop_after_attempt, wait_random_exponential\n"
   ]
  },
  {
   "cell_type": "code",
   "execution_count": 2,
   "id": "fe40021f",
   "metadata": {},
   "outputs": [],
   "source": [
    "BASE_URI = \"https://spoke.rbvi.ucsf.edu\""
   ]
  },
  {
   "cell_type": "code",
   "execution_count": 3,
   "id": "8a12a0d4",
   "metadata": {},
   "outputs": [],
   "source": [
    "def get_api_resp(END_POINT, params=None):\n",
    "    URI = BASE_URI + END_POINT\n",
    "    if params:\n",
    "        return requests.get(URI, params=params)\n",
    "    else:\n",
    "        return requests.get(URI)"
   ]
  },
  {
   "cell_type": "code",
   "execution_count": 5,
   "id": "59471b81",
   "metadata": {},
   "outputs": [],
   "source": [
    "\n"
   ]
  },
  {
   "cell_type": "code",
   "execution_count": 78,
   "id": "4f4ee6df",
   "metadata": {},
   "outputs": [],
   "source": [
    "@retry(wait=wait_random_exponential(min=10, max=30), stop=stop_after_attempt(5))\n",
    "def get_context_using_api(node_value):\n",
    "    type_end_point = \"/api/v1/types\"\n",
    "    result = get_api_resp(type_end_point)\n",
    "    data_spoke_types = result.json()\n",
    "    node_types = list(data_spoke_types[\"nodes\"].keys())\n",
    "    edge_types = list(data_spoke_types[\"edges\"].keys())\n",
    "    node_types_to_remove = [\"DatabaseTimestamp\", \"Version\"]\n",
    "    filtered_node_types = [node_type for node_type in node_types if node_type not in node_types_to_remove]\n",
    "    api_params = {\n",
    "        'node_filters' : filtered_node_types,\n",
    "        'edge_filters': edge_types,\n",
    "        'cutoff_Compound_max_phase': 3,\n",
    "        'cutoff_Protein_source': ['SwissProt'],\n",
    "        'cutoff_DaG_diseases_sources': ['knowledge', 'experiments'],\n",
    "        'cutoff_DaG_textmining': 3,\n",
    "        'cutoff_CtD_phase': 3,\n",
    "        'cutoff_PiP_confidence': 0.7,\n",
    "        'cutoff_ACTeG_level': ['Low', 'Medium', 'High']\n",
    "    }\n",
    "    node_type = \"Disease\"\n",
    "    attribute = \"name\"\n",
    "    nbr_end_point = \"/api/v1/neighborhood/{}/{}/{}\".format(node_type, attribute, node_value)\n",
    "    result = get_api_resp(nbr_end_point, params=api_params)\n",
    "    node_context = result.json()\n",
    "    nbr_nodes = []\n",
    "    nbr_edges = []\n",
    "    for item in node_context:\n",
    "        if \"_\" not in item[\"data\"][\"neo4j_type\"]:\n",
    "            try:\n",
    "                if item[\"data\"][\"neo4j_type\"] == \"Protein\":\n",
    "                    nbr_nodes.append((item[\"data\"][\"neo4j_type\"], item[\"data\"][\"id\"], item[\"data\"][\"properties\"][\"description\"]))\n",
    "                else:\n",
    "                    nbr_nodes.append((item[\"data\"][\"neo4j_type\"], item[\"data\"][\"id\"], item[\"data\"][\"properties\"][\"name\"]))\n",
    "            except:\n",
    "                nbr_nodes.append((item[\"data\"][\"neo4j_type\"], item[\"data\"][\"id\"], item[\"data\"][\"properties\"][\"identifier\"]))\n",
    "        elif \"_\" in item[\"data\"][\"neo4j_type\"]:\n",
    "            try:\n",
    "                provenance = \", \".join(item[\"data\"][\"properties\"][\"sources\"])\n",
    "            except:\n",
    "                try:\n",
    "                    provenance = item[\"data\"][\"properties\"][\"source\"]\n",
    "                    if isinstance(provenance, list):\n",
    "                        provenance = \", \".join(provenance)                    \n",
    "                except:\n",
    "                    provenance = \"SPOKE-KG\"                                    \n",
    "            nbr_edges.append((item[\"data\"][\"source\"], item[\"data\"][\"neo4j_type\"], item[\"data\"][\"target\"], provenance))\n",
    "    nbr_nodes_df = pd.DataFrame(nbr_nodes, columns=[\"node_type\", \"node_id\", \"node_name\"])\n",
    "    nbr_edges_df = pd.DataFrame(nbr_edges, columns=[\"source\", \"edge_type\", \"target\", \"provenance\"])\n",
    "    merge_1 = pd.merge(nbr_edges_df, nbr_nodes_df, left_on=\"source\", right_on=\"node_id\").drop(\"node_id\", axis=1)\n",
    "    merge_1.loc[:,\"node_name\"] = merge_1.node_type + \" \" + merge_1.node_name\n",
    "    merge_1.drop([\"source\", \"node_type\"], axis=1, inplace=True)\n",
    "    merge_1 = merge_1.rename(columns={\"node_name\":\"source\"})\n",
    "    merge_2 = pd.merge(merge_1, nbr_nodes_df, left_on=\"target\", right_on=\"node_id\").drop(\"node_id\", axis=1)\n",
    "    merge_2.loc[:,\"node_name\"] = merge_2.node_type + \" \" + merge_2.node_name\n",
    "    merge_2.drop([\"target\", \"node_type\"], axis=1, inplace=True)\n",
    "    merge_2 = merge_2.rename(columns={\"node_name\":\"target\"})\n",
    "    merge_2 = merge_2[[\"source\", \"edge_type\", \"target\", \"provenance\"]]\n",
    "    merge_2.loc[:, \"predicate\"] = merge_2.edge_type.apply(lambda x:x.split(\"_\")[0])\n",
    "    merge_2.loc[:, \"context\"] =  merge_2.source + \" \" + merge_2.predicate.str.lower() + \" \" + merge_2.target + \" and Provenance of this association is from \" + merge_2.provenance + \".\"\n",
    "    context = merge_2['context'].str.cat(sep=' ')\n",
    "    return context\n",
    "\n"
   ]
  },
  {
   "cell_type": "code",
   "execution_count": 79,
   "id": "63c574af",
   "metadata": {},
   "outputs": [
    {
     "name": "stdout",
     "output_type": "stream",
     "text": [
      "CPU times: user 92.2 ms, sys: 8.79 ms, total: 101 ms\n",
      "Wall time: 368 ms\n"
     ]
    }
   ],
   "source": [
    "%%time\n",
    "context = get_context_using_api(\"multiple sclerosis\")"
   ]
  },
  {
   "cell_type": "code",
   "execution_count": 84,
   "id": "8758c10c",
   "metadata": {},
   "outputs": [],
   "source": [
    "nbr_end_point = \"/api/v1/neighborhood/{}/{}/{}\".format(node_type, attribute, \"COVID-19\")\n",
    "result = get_api_resp(nbr_end_point, params=api_params)\n",
    "node_context = result.json()"
   ]
  },
  {
   "cell_type": "code",
   "execution_count": 105,
   "id": "ab655f5e",
   "metadata": {},
   "outputs": [],
   "source": [
    "nbr_nodes = []\n",
    "nbr_edges = []\n",
    "for item in node_context:\n",
    "    if \"_\" not in item[\"data\"][\"neo4j_type\"]:\n",
    "        try:\n",
    "            if item[\"data\"][\"neo4j_type\"] == \"Protein\":\n",
    "                nbr_nodes.append((item[\"data\"][\"neo4j_type\"], item[\"data\"][\"id\"], item[\"data\"][\"properties\"][\"description\"]))\n",
    "            else:\n",
    "                nbr_nodes.append((item[\"data\"][\"neo4j_type\"], item[\"data\"][\"id\"], item[\"data\"][\"properties\"][\"name\"]))\n",
    "        except:\n",
    "            nbr_nodes.append((item[\"data\"][\"neo4j_type\"], item[\"data\"][\"id\"], item[\"data\"][\"properties\"][\"identifier\"]))\n",
    "    elif \"_\" in item[\"data\"][\"neo4j_type\"]:\n",
    "        try:\n",
    "            provenance = \", \".join(item[\"data\"][\"properties\"][\"sources\"])\n",
    "        except:\n",
    "            try:\n",
    "                provenance = item[\"data\"][\"properties\"][\"source\"]\n",
    "                if isinstance(provenance, list):\n",
    "                    provenance = \", \".join(provenance)                    \n",
    "            except:\n",
    "                try:                    \n",
    "                    preprint_list = ast.literal_eval(item[\"data\"][\"properties\"][\"preprint_list\"])\n",
    "                    if len(preprint_list) > 0:                            \n",
    "                        break\n",
    "                        provenance = \", \".join(preprint_list)\n",
    "                    else:\n",
    "                        pmid_list = ast.literal_eval(item[\"data\"][\"properties\"][\"pmid_list\"])\n",
    "                        pmid_list = map(lambda x:\"pubmedId:\"+x, pmid_list)\n",
    "                        if len(pmid_list) > 0:\n",
    "                            provenance = \", \".join(pmid_list)\n",
    "                        else:\n",
    "                            provenance = \"Based on data from Institute For Systems Biology (ISB)\"\n",
    "                except:                                \n",
    "                    provenance = \"SPOKE-KG\"                                    \n",
    "            nbr_edges.append((item[\"data\"][\"source\"], item[\"data\"][\"neo4j_type\"], item[\"data\"][\"target\"], provenance))\n",
    "    nbr_nodes_df = pd.DataFrame(nbr_nodes, columns=[\"node_type\", \"node_id\", \"node_name\"])\n",
    "    nbr_edges_df = pd.DataFrame(nbr_edges, columns=[\"source\", \"edge_type\", \"target\", \"provenance\"])\n",
    "    merge_1 = pd.merge(nbr_edges_df, nbr_nodes_df, left_on=\"source\", right_on=\"node_id\").drop(\"node_id\", axis=1)\n",
    "    merge_1.loc[:,\"node_name\"] = merge_1.node_type + \" \" + merge_1.node_name\n",
    "    merge_1.drop([\"source\", \"node_type\"], axis=1, inplace=True)\n",
    "    merge_1 = merge_1.rename(columns={\"node_name\":\"source\"})\n",
    "    merge_2 = pd.merge(merge_1, nbr_nodes_df, left_on=\"target\", right_on=\"node_id\").drop(\"node_id\", axis=1)\n",
    "    merge_2.loc[:,\"node_name\"] = merge_2.node_type + \" \" + merge_2.node_name\n",
    "    merge_2.drop([\"target\", \"node_type\"], axis=1, inplace=True)\n",
    "    merge_2 = merge_2.rename(columns={\"node_name\":\"target\"})\n",
    "    merge_2 = merge_2[[\"source\", \"edge_type\", \"target\", \"provenance\"]]\n",
    "    merge_2.loc[:, \"predicate\"] = merge_2.edge_type.apply(lambda x:x.split(\"_\")[0])\n",
    "    merge_2.loc[:, \"context\"] =  merge_2.source + \" \" + merge_2.predicate.str.lower() + \" \" + merge_2.target + \" and Provenance of this association is from \" + merge_2.provenance + \".\"\n",
    "    context = merge_2['context'].str.cat(sep=' ')\n"
   ]
  },
  {
   "cell_type": "code",
   "execution_count": 107,
   "id": "6f1fd3d9",
   "metadata": {},
   "outputs": [
    {
     "data": {
      "text/plain": [
       "{'id': 5624848,\n",
       " 'source': 27932330,\n",
       " 'target': 150122,\n",
       " 'neo4j_type': 'CAUSES_OcD',\n",
       " 'properties': {}}"
      ]
     },
     "execution_count": 107,
     "metadata": {},
     "output_type": "execute_result"
    }
   ],
   "source": [
    "item[\"data\"]\n"
   ]
  },
  {
   "cell_type": "code",
   "execution_count": 89,
   "id": "b9862513",
   "metadata": {},
   "outputs": [
    {
     "data": {
      "text/plain": [
       "'Disease critical COVID-19 isa Disease COVID-19 and Provenance of this association is from Disease Ontology. Disease severe COVID-19 isa Disease COVID-19 and Provenance of this association is from Disease Ontology. Disease non-severe COVID-19 isa Disease COVID-19 and Provenance of this association is from Disease Ontology. Disease COVID-19 isa Disease Coronavirus infectious disease and Provenance of this association is from Disease Ontology. Disease COVID-19 resembles Disease mucormycosis and Provenance of this association is from NCBI PubMed. Disease COVID-19 resembles Disease systemic lupus erythematosus and Provenance of this association is from NCBI PubMed. Disease COVID-19 resembles Disease cardiovascular system disease and Provenance of this association is from NCBI PubMed. Disease COVID-19 resembles Disease diabetes mellitus and Provenance of this association is from NCBI PubMed. Disease COVID-19 resembles Disease acute kidney failure and Provenance of this association is from NCBI PubMed. Disease COVID-19 resembles Disease hypertension and Provenance of this association is from NCBI PubMed. Disease COVID-19 resembles Disease hepatitis B and Provenance of this association is from NCBI PubMed. Disease COVID-19 resembles Disease breast carcinoma and Provenance of this association is from NCBI PubMed. Disease COVID-19 resembles Disease encephalitis and Provenance of this association is from NCBI PubMed. Disease COVID-19 resembles Disease adult respiratory distress syndrome and Provenance of this association is from NCBI PubMed. Disease COVID-19 resembles Disease pulmonary embolism and Provenance of this association is from NCBI PubMed. Disease COVID-19 resembles Disease multiple sclerosis and Provenance of this association is from NCBI PubMed. Disease COVID-19 resembles Disease nervous system disease and Provenance of this association is from NCBI PubMed. Disease COVID-19 resembles Disease breast cancer and Provenance of this association is from NCBI PubMed. Disease COVID-19 resembles Disease orbital disease and Provenance of this association is from NCBI PubMed. Disease COVID-19 resembles Disease pneumonia and Provenance of this association is from NCBI PubMed. Disease COVID-19 localizes Anatomy lung and Provenance of this association is from NCBI PubMed. Disease COVID-19 presents Symptom Olfaction Disorders and Provenance of this association is from NCBI PubMed.'"
      ]
     },
     "execution_count": 89,
     "metadata": {},
     "output_type": "execute_result"
    }
   ],
   "source": [
    "context"
   ]
  },
  {
   "cell_type": "code",
   "execution_count": null,
   "id": "616d5cd2",
   "metadata": {},
   "outputs": [],
   "source": []
  }
 ],
 "metadata": {
  "kernelspec": {
   "display_name": "Python 3 (ipykernel)",
   "language": "python",
   "name": "python3"
  },
  "language_info": {
   "codemirror_mode": {
    "name": "ipython",
    "version": 3
   },
   "file_extension": ".py",
   "mimetype": "text/x-python",
   "name": "python",
   "nbconvert_exporter": "python",
   "pygments_lexer": "ipython3",
   "version": "3.10.9"
  }
 },
 "nbformat": 4,
 "nbformat_minor": 5
}
