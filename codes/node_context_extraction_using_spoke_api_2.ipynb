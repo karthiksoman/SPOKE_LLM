{
 "cells": [
  {
   "cell_type": "code",
   "execution_count": 14,
   "id": "3e6816c1",
   "metadata": {},
   "outputs": [],
   "source": [
    "import requests\n",
    "import pandas as pd\n",
    "from tenacity import retry, stop_after_attempt, wait_random_exponential\n"
   ]
  },
  {
   "cell_type": "code",
   "execution_count": 2,
   "id": "fe40021f",
   "metadata": {},
   "outputs": [],
   "source": [
    "BASE_URI = \"https://spoke.rbvi.ucsf.edu\""
   ]
  },
  {
   "cell_type": "code",
   "execution_count": 3,
   "id": "8a12a0d4",
   "metadata": {},
   "outputs": [],
   "source": [
    "def get_api_resp(END_POINT, params=None):\n",
    "    URI = BASE_URI + END_POINT\n",
    "    if params:\n",
    "        return requests.get(URI, params=params)\n",
    "    else:\n",
    "        return requests.get(URI)"
   ]
  },
  {
   "cell_type": "code",
   "execution_count": 5,
   "id": "59471b81",
   "metadata": {},
   "outputs": [],
   "source": [
    "\n"
   ]
  },
  {
   "cell_type": "code",
   "execution_count": 78,
   "id": "4f4ee6df",
   "metadata": {},
   "outputs": [],
   "source": [
    "@retry(wait=wait_random_exponential(min=10, max=30), stop=stop_after_attempt(5))\n",
    "def get_context_using_api(node_value):\n",
    "    type_end_point = \"/api/v1/types\"\n",
    "    result = get_api_resp(type_end_point)\n",
    "    data_spoke_types = result.json()\n",
    "    node_types = list(data_spoke_types[\"nodes\"].keys())\n",
    "    edge_types = list(data_spoke_types[\"edges\"].keys())\n",
    "    node_types_to_remove = [\"DatabaseTimestamp\", \"Version\"]\n",
    "    filtered_node_types = [node_type for node_type in node_types if node_type not in node_types_to_remove]\n",
    "    api_params = {\n",
    "        'node_filters' : filtered_node_types,\n",
    "        'edge_filters': edge_types,\n",
    "        'cutoff_Compound_max_phase': 3,\n",
    "        'cutoff_Protein_source': ['SwissProt'],\n",
    "        'cutoff_DaG_diseases_sources': ['knowledge', 'experiments'],\n",
    "        'cutoff_DaG_textmining': 3,\n",
    "        'cutoff_CtD_phase': 3,\n",
    "        'cutoff_PiP_confidence': 0.7,\n",
    "        'cutoff_ACTeG_level': ['Low', 'Medium', 'High']\n",
    "    }\n",
    "    node_type = \"Disease\"\n",
    "    attribute = \"name\"\n",
    "    nbr_end_point = \"/api/v1/neighborhood/{}/{}/{}\".format(node_type, attribute, node_value)\n",
    "    result = get_api_resp(nbr_end_point, params=api_params)\n",
    "    node_context = result.json()\n",
    "    nbr_nodes = []\n",
    "    nbr_edges = []\n",
    "    for item in node_context:\n",
    "        if \"_\" not in item[\"data\"][\"neo4j_type\"]:\n",
    "            try:\n",
    "                if item[\"data\"][\"neo4j_type\"] == \"Protein\":\n",
    "                    nbr_nodes.append((item[\"data\"][\"neo4j_type\"], item[\"data\"][\"id\"], item[\"data\"][\"properties\"][\"description\"]))\n",
    "                else:\n",
    "                    nbr_nodes.append((item[\"data\"][\"neo4j_type\"], item[\"data\"][\"id\"], item[\"data\"][\"properties\"][\"name\"]))\n",
    "            except:\n",
    "                nbr_nodes.append((item[\"data\"][\"neo4j_type\"], item[\"data\"][\"id\"], item[\"data\"][\"properties\"][\"identifier\"]))\n",
    "        elif \"_\" in item[\"data\"][\"neo4j_type\"]:\n",
    "            try:\n",
    "                provenance = \", \".join(item[\"data\"][\"properties\"][\"sources\"])\n",
    "            except:\n",
    "                try:\n",
    "                    provenance = item[\"data\"][\"properties\"][\"source\"]\n",
    "                    if isinstance(provenance, list):\n",
    "                        provenance = \", \".join(provenance)                    \n",
    "                except:\n",
    "                    provenance = \"SPOKE-KG\"                                    \n",
    "            nbr_edges.append((item[\"data\"][\"source\"], item[\"data\"][\"neo4j_type\"], item[\"data\"][\"target\"], provenance))\n",
    "    nbr_nodes_df = pd.DataFrame(nbr_nodes, columns=[\"node_type\", \"node_id\", \"node_name\"])\n",
    "    nbr_edges_df = pd.DataFrame(nbr_edges, columns=[\"source\", \"edge_type\", \"target\", \"provenance\"])\n",
    "    merge_1 = pd.merge(nbr_edges_df, nbr_nodes_df, left_on=\"source\", right_on=\"node_id\").drop(\"node_id\", axis=1)\n",
    "    merge_1.loc[:,\"node_name\"] = merge_1.node_type + \" \" + merge_1.node_name\n",
    "    merge_1.drop([\"source\", \"node_type\"], axis=1, inplace=True)\n",
    "    merge_1 = merge_1.rename(columns={\"node_name\":\"source\"})\n",
    "    merge_2 = pd.merge(merge_1, nbr_nodes_df, left_on=\"target\", right_on=\"node_id\").drop(\"node_id\", axis=1)\n",
    "    merge_2.loc[:,\"node_name\"] = merge_2.node_type + \" \" + merge_2.node_name\n",
    "    merge_2.drop([\"target\", \"node_type\"], axis=1, inplace=True)\n",
    "    merge_2 = merge_2.rename(columns={\"node_name\":\"target\"})\n",
    "    merge_2 = merge_2[[\"source\", \"edge_type\", \"target\", \"provenance\"]]\n",
    "    merge_2.loc[:, \"predicate\"] = merge_2.edge_type.apply(lambda x:x.split(\"_\")[0])\n",
    "    merge_2.loc[:, \"context\"] =  merge_2.source + \" \" + merge_2.predicate.str.lower() + \" \" + merge_2.target + \" and Provenance of this association is from \" + merge_2.provenance + \".\"\n",
    "    context = merge_2['context'].str.cat(sep=' ')\n",
    "    return context\n",
    "\n"
   ]
  },
  {
   "cell_type": "code",
   "execution_count": 79,
   "id": "63c574af",
   "metadata": {},
   "outputs": [
    {
     "name": "stdout",
     "output_type": "stream",
     "text": [
      "CPU times: user 92.2 ms, sys: 8.79 ms, total: 101 ms\n",
      "Wall time: 368 ms\n"
     ]
    }
   ],
   "source": [
    "%%time\n",
    "context = get_context_using_api(\"multiple sclerosis\")"
   ]
  },
  {
   "cell_type": "code",
   "execution_count": 84,
   "id": "8758c10c",
   "metadata": {},
   "outputs": [],
   "source": [
    "nbr_end_point = \"/api/v1/neighborhood/{}/{}/{}\".format(node_type, attribute, \"COVID-19\")\n",
    "result = get_api_resp(nbr_end_point, params=api_params)\n",
    "node_context = result.json()"
   ]
  },
  {
   "cell_type": "code",
   "execution_count": 122,
   "id": "0931bc46",
   "metadata": {},
   "outputs": [],
   "source": [
    "import ast\n",
    "nbr_nodes = []\n",
    "nbr_edges = []\n",
    "for item in node_context:\n",
    "    if \"_\" not in item[\"data\"][\"neo4j_type\"]:\n",
    "        try:\n",
    "            if item[\"data\"][\"neo4j_type\"] == \"Protein\":\n",
    "                nbr_nodes.append((item[\"data\"][\"neo4j_type\"], item[\"data\"][\"id\"], item[\"data\"][\"properties\"][\"description\"]))\n",
    "            else:\n",
    "                nbr_nodes.append((item[\"data\"][\"neo4j_type\"], item[\"data\"][\"id\"], item[\"data\"][\"properties\"][\"name\"]))\n",
    "        except:\n",
    "            nbr_nodes.append((item[\"data\"][\"neo4j_type\"], item[\"data\"][\"id\"], item[\"data\"][\"properties\"][\"identifier\"]))\n",
    "    elif \"_\" in item[\"data\"][\"neo4j_type\"]:\n",
    "        try:\n",
    "            provenance = \", \".join(item[\"data\"][\"properties\"][\"sources\"])\n",
    "        except:\n",
    "            try:\n",
    "                provenance = item[\"data\"][\"properties\"][\"source\"]\n",
    "                if isinstance(provenance, list):\n",
    "                    provenance = \", \".join(provenance)                    \n",
    "            except:\n",
    "                try:                    \n",
    "                    preprint_list = ast.literal_eval(item[\"data\"][\"properties\"][\"preprint_list\"])\n",
    "                    if len(preprint_list) > 0:                                                    \n",
    "                        provenance = \", \".join(preprint_list)\n",
    "                    else:\n",
    "                        pmid_list = ast.literal_eval(item[\"data\"][\"properties\"][\"pmid_list\"])\n",
    "                        pmid_list = map(lambda x:\"pubmedId:\"+x, pmid_list)\n",
    "                        if len(pmid_list) > 0:\n",
    "                            provenance = \", \".join(pmid_list)\n",
    "                        else:\n",
    "                            provenance = \"Based on data from Institute For Systems Biology (ISB)\"\n",
    "                except:                                \n",
    "                    provenance = \"SPOKE-KG\"                                    \n",
    "        nbr_edges.append((item[\"data\"][\"source\"], item[\"data\"][\"neo4j_type\"], item[\"data\"][\"target\"], provenance))\n",
    "nbr_nodes_df = pd.DataFrame(nbr_nodes, columns=[\"node_type\", \"node_id\", \"node_name\"])\n",
    "nbr_edges_df = pd.DataFrame(nbr_edges, columns=[\"source\", \"edge_type\", \"target\", \"provenance\"])\n",
    "merge_1 = pd.merge(nbr_edges_df, nbr_nodes_df, left_on=\"source\", right_on=\"node_id\").drop(\"node_id\", axis=1)\n",
    "merge_1.loc[:,\"node_name\"] = merge_1.node_type + \" \" + merge_1.node_name\n",
    "merge_1.drop([\"source\", \"node_type\"], axis=1, inplace=True)\n",
    "merge_1 = merge_1.rename(columns={\"node_name\":\"source\"})\n",
    "merge_2 = pd.merge(merge_1, nbr_nodes_df, left_on=\"target\", right_on=\"node_id\").drop(\"node_id\", axis=1)\n",
    "merge_2.loc[:,\"node_name\"] = merge_2.node_type + \" \" + merge_2.node_name\n",
    "merge_2.drop([\"target\", \"node_type\"], axis=1, inplace=True)\n",
    "merge_2 = merge_2.rename(columns={\"node_name\":\"target\"})\n",
    "merge_2 = merge_2[[\"source\", \"edge_type\", \"target\", \"provenance\"]]\n",
    "merge_2.loc[:, \"predicate\"] = merge_2.edge_type.apply(lambda x:x.split(\"_\")[0])\n",
    "merge_2.loc[:, \"context\"] =  merge_2.source + \" \" + merge_2.predicate.str.lower() + \" \" + merge_2.target + \" and Provenance of this association is from \" + merge_2.provenance + \".\"\n",
    "context = merge_2['context'].str.cat(sep=' ')\n"
   ]
  },
  {
   "cell_type": "code",
   "execution_count": 118,
   "id": "26415885",
   "metadata": {},
   "outputs": [
    {
     "data": {
      "text/plain": [
       "['https://doi.org/10.1101/2020.03.02.20029975']"
      ]
     },
     "execution_count": 118,
     "metadata": {},
     "output_type": "execute_result"
    }
   ],
   "source": [
    "preprint_list"
   ]
  },
  {
   "cell_type": "code",
   "execution_count": 123,
   "id": "745875d5",
   "metadata": {},
   "outputs": [
    {
     "data": {
      "text/plain": [
       "\"Disease critical COVID-19 isa Disease COVID-19 and Provenance of this association is from Disease Ontology. Disease severe COVID-19 isa Disease COVID-19 and Provenance of this association is from Disease Ontology. Disease non-severe COVID-19 isa Disease COVID-19 and Provenance of this association is from Disease Ontology. Organism Severe acute respiratory syndrome coronavirus 2 causes Disease COVID-19 and Provenance of this association is from SPOKE-KG. Protein Interleukin-23 subunit alpha (IL-23 subunit alpha) (IL-23-A) (Interleukin-23 subunit p19) (IL-23p19) increasedin Disease COVID-19 and Provenance of this association is from SPOKE-KG. Protein C-C motif chemokine 7 (Monocyte chemoattractant protein 3) (Monocyte chemotactic protein 3) (MCP-3) (NC28) (Small-inducible cytokine A7) increasedin Disease COVID-19 and Provenance of this association is from https://doi.org/10.1101/2020.03.02.20029975. Protein Fibroblast growth factor 2 (FGF-2) (Basic fibroblast growth factor) (bFGF) (Heparin-binding growth factor 2) (HBGF-2) increasedin Disease COVID-19 and Provenance of this association is from https://doi.org/10.1101/2020.06.23.20137596, https://doi.org/10.1101/2020.06.18.20134353. Protein Interleukin-13 (IL-13) increasedin Disease COVID-19 and Provenance of this association is from https://doi.org/10.1101/2020.06.18.20134353. Protein Interleukin-2 receptor subunit alpha (IL-2 receptor subunit alpha) (IL-2-RA) (IL-2R subunit alpha) (IL2-RA) (TAC antigen) (p55) (CD_antigen=CD25) increasedin Disease COVID-19 and Provenance of this association is from https://doi.org/10.1101/2020.03.02.20029975, https://doi.org/10.1101/2020.02.25.20025643, https://doi.org/10.1101/2020.02.16.20023903. Protein Interleukin-9 (IL-9) (Cytokine P40) (T-cell growth factor P40) increasedin Disease COVID-19 and Provenance of this association is from SPOKE-KG. Protein Interleukin-7 (IL-7) increasedin Disease COVID-19 and Provenance of this association is from https://doi.org/10.1101/2020.06.18.20134353. Protein Tumor necrosis factor ligand superfamily member 10 (Apo-2 ligand) (Apo-2L) (TNF-related apoptosis-inducing ligand) (Protein TRAIL) (CD_antigen=CD253) increasedin Disease COVID-19 and Provenance of this association is from SPOKE-KG. Protein C-C motif chemokine 27 (CC chemokine ILC) (Cutaneous T-cell-attracting chemokine) (CTACK) (ESkine) (IL-11 R-alpha-locus chemokine) (Skinkine) (Small-inducible cytokine A27) increasedin Disease COVID-19 and Provenance of this association is from https://doi.org/10.1101/2020.03.02.20029975. Protein C-C motif chemokine 3 (G0/G1 switch regulatory protein 19-1) (Macrophage inflammatory protein 1-alpha) (MIP-1-alpha) (PAT 464.1) (SIS-beta) (Small-inducible cytokine A3) (Tonsillar lymphocyte LD78 alpha protein) (LD78-alpha) [Cleaved into: MIP-1-alpha(4-69)] increasedin Disease COVID-19 and Provenance of this association is from https://doi.org/10.1101/2020.03.02.20029975, https://doi.org/10.1101/2020.06.18.20134353. Protein Platelet-derived growth factor subunit B (PDGF subunit B) (PDGF-2) (Platelet-derived growth factor B chain) (Platelet-derived growth factor beta polypeptide) (Proto-oncogene c-Sis) (INN=Becaplermin) increasedin Disease COVID-19 and Provenance of this association is from https://doi.org/10.1101/2020.06.23.20137596. Protein Interleukin-1 receptor antagonist protein (IL-1RN) (IL-1ra) (IRAP) (ICIL-1RA) (IL1 inhibitor) (INN=Anakinra) increasedin Disease COVID-19 and Provenance of this association is from https://doi.org/10.1101/2020.08.02.230839, https://doi.org/10.1101/2020.03.02.20029975, https://doi.org/10.1101/2020.07.28.20162735, https://doi.org/10.1101/2020.06.18.20134353. Protein Interleukin-10 (IL-10) (Cytokine synthesis inhibitory factor) (CSIF) increasedin Disease COVID-19 and Provenance of this association is from https://doi.org/10.1101/2020.03.02.20029975, https://10.1101/2020.03.12.20034736, https://10.1101/2020.02.16.20023903, https://doi.org/10.1101/2020.02.25.20025643, https://doi.org/10.1101/2020.07.28.20162735. Protein Interleukin-21 (IL-21) (Za11) increasedin Disease COVID-19 and Provenance of this association is from SPOKE-KG. Protein C-C motif chemokine 26 (CC chemokine IMAC) (Eotaxin-3) (Macrophage inflammatory protein 4-alpha) (MIP-4-alpha) (Small-inducible cytokine A26) (Thymic stroma chemokine-1) (TSC-1 {ECO:0000303|Ref.4}) increasedin Disease COVID-19 and Provenance of this association is from SPOKE-KG. Protein Tumor necrosis factor (Cachectin) (TNF-alpha) (Tumor necrosis factor ligand superfamily member 2) (TNF-a) (N-terminal fragment) (NTF) (ICD1) (ICD2) [Cleaved into: Tumor necrosis factor, membrane form] [Cleaved into: Intracellular domain 1] [Cleaved into: Intracellular domain 2] [Cleaved into: C-domain 1] [Cleaved into: C-domain 2] [Cleaved into: Tumor necrosis factor, soluble form] increasedin Disease COVID-19 and Provenance of this association is from https://10.1101/2020.02.16.20023903, https://10.1101/2020.03.12.20034736, https://doi.org/10.1101/2020.02.25.20025643, https://doi.org/10.1101/2020.03.01.20029397, https://doi.org/10.1101/2020.07.28.20162735. Protein Interleukin-1 beta (IL-1 beta {ECO:0000303|PubMed:1919436}) (Catabolin) increasedin Disease COVID-19 and Provenance of this association is from https://doi.org/10.1101/2020.06.23.20137596, https://doi.org/10.1101/2020.06.18.20134353. Protein Interferon alpha-2 (IFN-alpha-2) (Interferon alpha-A) (LeIF A) increasedin Disease COVID-19 and Provenance of this association is from https://doi.org/10.1101/2020.08.02.230839, https://doi.org/10.1101/2020.06.23.20137596. Protein Interleukin-2 (IL-2) (T-cell growth factor) (TCGF) (INN=Aldesleukin) increasedin Disease COVID-19 and Provenance of this association is from https://10.1101/2020.03.12.20034736. Protein Interleukin-18 (IL-18 {ECO:0000303|PubMed:14528293, ECO:0000303|PubMed:25261253, ECO:0000303|PubMed:25500532}) (Iboctadekin) (Interferon gamma-inducing factor) (IFN-gamma-inducing factor {ECO:0000303|PubMed:14528293, ECO:0000303|PubMed:25500532}) (Interleukin-1 gamma) (IL-1 gamma) increasedin Disease COVID-19 and Provenance of this association is from https://doi.org/10.1101/2020.03.02.20029975. Protein Vascular endothelial growth factor A (VEGF-A) (Vascular permeability factor) (VPF) increasedin Disease COVID-19 and Provenance of this association is from https://doi.org/10.1101/2020.06.23.20137596. Protein C-X-C motif chemokine 5 (ENA-78) (Epithelial-derived neutrophil-activating protein 78) (Neutrophil-activating peptide ENA-78) (Small-inducible cytokine B5) [Cleaved into: ENA-78(8-78)] [Cleaved into: ENA-78(9-78)] increasedin Disease COVID-19 and Provenance of this association is from SPOKE-KG. Protein Thrombopoietin (C-mpl ligand) (ML) (Megakaryocyte colony-stimulating factor) (Megakaryocyte growth and development factor) (MGDF) (Myeloproliferative leukemia virus oncogene ligand) increasedin Disease COVID-19 and Provenance of this association is from SPOKE-KG. Protein C-X-C motif chemokine 2 (Growth-regulated protein beta) (Gro-beta) (Macrophage inflammatory protein 2-alpha) (MIP2-alpha) (GRO-beta-T) (Hematopoietic synergistic factor) (HSF) (SB-251353) [Cleaved into: GRO-beta(5-73)] increasedin Disease COVID-19 and Provenance of this association is from SPOKE-KG. Protein C-X-C motif chemokine 10 (10 kDa interferon gamma-induced protein) (Gamma-IP10) (IP-10) (Small-inducible cytokine B10) [Cleaved into: CXCL10(1-73)] increasedin Disease COVID-19 and Provenance of this association is from https://doi.org/10.1101/2020.03.02.20029975, https://doi.org/10.1101/2020.08.02.230839, https://doi.org/10.1101/2020.07.28.20162735. Protein C-C motif chemokine 8 (HC14) (Monocyte chemoattractant protein 2) (Monocyte chemotactic protein 2) (MCP-2) (Small-inducible cytokine A8) [Cleaved into: MCP-2(6-76)] increasedin Disease COVID-19 and Provenance of this association is from SPOKE-KG. Protein Complement C5 (C3 and PZP-like alpha-2-macroglobulin domain-containing protein 4) [Cleaved into: Complement C5 beta chain] [Cleaved into: Complement C5 alpha chain] [Cleaved into: C5a anaphylatoxin] [Cleaved into: Complement C5 alpha' chain] increasedin Disease COVID-19 and Provenance of this association is from https://doi.org/10.1101/2020.03.29.20041962. Protein Pro-interleukin-16 (IL-16) (Lymphocyte chemoattractant factor) (LCF) [Cleaved into: Interleukin-16] increasedin Disease COVID-19 and Provenance of this association is from SPOKE-KG. Protein Vascular endothelial growth factor D (VEGF-D) (c-Fos-induced growth factor) (FIGF) increasedin Disease COVID-19 and Provenance of this association is from SPOKE-KG. Protein Granulocyte colony-stimulating factor (G-CSF) (Pluripoietin) (INN=Filgrastim) (INN=Lenograstim) increasedin Disease COVID-19 and Provenance of this association is from https://doi.org/10.1101/2020.03.02.20029975, https://doi.org/10.1101/2020.06.23.20137596, https://doi.org/10.1101/2020.06.18.20134353. Protein Pro-epidermal growth factor (EGF) (Urogastrone) [Cleaved into: Epidermal growth factor] increasedin Disease COVID-19 and Provenance of this association is from https://doi.org/10.1101/2020.06.23.20137596, https://doi.org/10.1101/2020.07.28.20162735. Protein Eotaxin (C-C motif chemokine 11) (Eosinophil chemotactic protein) (Small-inducible cytokine A11) increasedin Disease COVID-19 and Provenance of this association is from https://doi.org/10.1101/2020.06.23.20137596. Protein Interleukin-6 (IL-6) (B-cell stimulatory factor 2) (BSF-2) (CTL differentiation factor) (CDF) (Hybridoma growth factor) (Interferon beta-2) (IFN-beta-2) increasedin Disease COVID-19 and Provenance of this association is from https://doi.org/10.1101/2020.03.02.20029975, https://10.1101/2020.03.12.20034736, https://10.1101/2020.02.12.945576, https://10.1101/2020.03.01.20029397, , https://doi.org/10.1101/2020.02.10.20021832, https://10.1101/2020.02.16.20023903, https://doi.org/10.1101/2020.08.02.230839, https://doi.org/10.1101/2020.06.23.20137596, medrxiv, doi:, https://doi.org/10.1101/2020.02.25.20025643, , medrxiv, https://doi.org/10.1101/2020.07.28.20162735. Protein C-X-C motif chemokine 9 (Gamma-interferon-induced monokine) (Monokine induced by interferon-gamma) (HuMIG) (MIG) (Small-inducible cytokine B9) increasedin Disease COVID-19 and Provenance of this association is from https://doi.org/10.1101/2020.03.02.20029975, https://doi.org/10.1101/2020.07.28.20162735. Protein Lymphotoxin-alpha (LT-alpha) (TNF-beta) (Tumor necrosis factor ligand superfamily member 1) increasedin Disease COVID-19 and Provenance of this association is from https://doi.org/10.1101/2020.06.23.20137596. Protein Interleukin-8 (IL-8) (C-X-C motif chemokine 8) (Chemokine) (Emoctakin) (Granulocyte chemotactic protein 1) (GCP-1) (Monocyte-derived neutrophil chemotactic factor) (MDNCF) (Monocyte-derived neutrophil-activating peptide) (MONAP) (Neutrophil-activating protein 1) (NAP-1) (Protein 3-10C) (T-cell chemotactic factor) (GCP/IL-8 protein IV) (IL8/NAP1 form I) () (GCP/IL-8 protein II) (IL-8) (IL8/NAP1 form II) (MDNCF-b) () (GCP/IL-8 protein I) (IL8/NAP1 form III) (Lymphocyte-derived neutrophil-activating factor) (LYNAP) (MDNCF-c) (Neutrophil-activating factor) (NAF) (GCP/IL-8 protein V) (IL8/NAP1 form IV) (GCP/IL-8 protein VI) (IL8/NAP1 form V) (GCP/IL-8 protein III) (IL8/NAP1 form VI) [Cleaved into: MDNCF-a] [Cleaved into: Interleukin-8] [Cleaved into: IL-8(5-77)] [Cleaved into: IL-8(6-77)] [Cleaved into: IL-8(7-77)] [Cleaved into: IL-8(8-77)] [Cleaved into: IL-8(9-77)] increasedin Disease COVID-19 and Provenance of this association is from https://doi.org/10.1101/2020.02.25.20025643, https://doi.org/10.1101/2020.07.28.20162735. Protein Macrophage colony-stimulating factor 1 (CSF-1) (M-CSF) (MCSF) (Lanimostim) [Cleaved into: Processed macrophage colony-stimulating factor 1] increasedin Disease COVID-19 and Provenance of this association is from https://doi.org/10.1101/2020.03.02.20029975, https://doi.org/10.1101/2020.08.02.230839. Protein Hepatocyte growth factor (Hepatopoietin-A) (Scatter factor) (SF) [Cleaved into: Hepatocyte growth factor alpha chain] [Cleaved into: Hepatocyte growth factor beta chain] increasedin Disease COVID-19 and Provenance of this association is from https://doi.org/10.1101/2020.03.02.20029975. Protein Granulocyte-macrophage colony-stimulating factor (GM-CSF) (Colony-stimulating factor) (CSF) (Molgramostin) (Sargramostim) increasedin Disease COVID-19 and Provenance of this association is from https://doi.org/10.1101/2020.06.23.20137596. Protein Growth-regulated alpha protein (C-X-C motif chemokine 1) (GRO-alpha) (Melanoma growth stimulatory activity) (MGSA) (Neutrophil-activating protein 3) (NAP-3) [Cleaved into: GRO-alpha(4-73)] [Cleaved into: GRO-alpha(5-73)] [Cleaved into: GRO-alpha(6-73)] increasedin Disease COVID-19 and Provenance of this association is from SPOKE-KG. Protein C-C motif chemokine 4 (G-26 T-lymphocyte-secreted protein) (HC21) (Lymphocyte activation gene 1 protein) (LAG-1) (MIP-1-beta) (Macrophage inflammatory protein 1-beta) (MIP-1-beta) (PAT 744) (Protein H400) (SIS-gamma) (Small-inducible cytokine A4) (T-cell activation protein 2) (ACT-2) [Cleaved into: MIP-1-beta(3-69)] increasedin Disease COVID-19 and Provenance of this association is from SPOKE-KG. Protein Interleukin-27 subunit alpha (IL-27 subunit alpha) (IL-27-A) (IL27-A) (Interleukin-30) (p28) increasedin Disease COVID-19 and Provenance of this association is from https://doi.org/10.1101/2020.07.28.20162735. Protein Interleukin-33 (IL-33) (Interleukin-1 family member 11) (IL-1F11) (Nuclear factor from high endothelial venules) (NF-HEV) [Cleaved into: Interleukin-33 (95-270)] [Cleaved into: Interleukin-33 (99-270)] [Cleaved into: Interleukin-33 (109-270)] increasedin Disease COVID-19 and Provenance of this association is from SPOKE-KG. Protein Interferon gamma (IFN-gamma) (Immune interferon) increasedin Disease COVID-19 and Provenance of this association is from https://doi.org/10.1101/2020.03.02.20029975, https://10.1101/2020.03.12.20034736, https://10.1101/2020.02.12.945576, https://doi.org/10.1101/2020.06.23.20137596, https://doi.org/10.1101/2020.06.18.20134353. Protein Interleukin-17A (IL-17) (IL-17A) (Cytotoxic T-lymphocyte-associated antigen 8) (CTLA-8) increasedin Disease COVID-19 and Provenance of this association is from https://10.1101/2020.03.01.20029397, https://doi.org/10.1101/2020.06.18.20134353. Protein C-C motif chemokine 2 (HC11) (Monocyte chemoattractant protein 1) (Monocyte chemotactic and activating factor) (MCAF) (Monocyte chemotactic protein 1) (MCP-1) (Monocyte secretory protein JE) (Small-inducible cytokine A2) increasedin Disease COVID-19 and Provenance of this association is from https://doi.org/10.1101/2020.07.28.20162735. Protein Interleukin-15 (IL-15) increasedin Disease COVID-19 and Provenance of this association is from https://doi.org/10.1101/2020.07.28.20162735. Protein C-X-C motif chemokine 16 (Scavenger receptor for phosphatidylserine and oxidized low density lipoprotein) (SR-PSOX) (Small-inducible cytokine B16) (Transmembrane chemokine CXCL16) increasedin Disease COVID-19 and Provenance of this association is from SPOKE-KG. Protein Interleukin-3 (IL-3) (Hematopoietic growth factor) (Mast cell growth factor) (MCGF) (Multipotential colony-stimulating factor) (P-cell-stimulating factor) decreasedin Disease COVID-19 and Provenance of this association is from https://doi.org/10.1101/2020.06.23.20137596. Disease COVID-19 isa Disease Coronavirus infectious disease and Provenance of this association is from Disease Ontology. Disease COVID-19 resembles Disease mucormycosis and Provenance of this association is from NCBI PubMed. Disease COVID-19 resembles Disease systemic lupus erythematosus and Provenance of this association is from NCBI PubMed. Disease COVID-19 resembles Disease cardiovascular system disease and Provenance of this association is from NCBI PubMed. Disease COVID-19 resembles Disease diabetes mellitus and Provenance of this association is from NCBI PubMed. Disease COVID-19 resembles Disease acute kidney failure and Provenance of this association is from NCBI PubMed. Disease COVID-19 resembles Disease hypertension and Provenance of this association is from NCBI PubMed. Disease COVID-19 resembles Disease hepatitis B and Provenance of this association is from NCBI PubMed. Disease COVID-19 resembles Disease breast carcinoma and Provenance of this association is from NCBI PubMed. Disease COVID-19 resembles Disease encephalitis and Provenance of this association is from NCBI PubMed. Disease COVID-19 resembles Disease adult respiratory distress syndrome and Provenance of this association is from NCBI PubMed. Disease COVID-19 resembles Disease pulmonary embolism and Provenance of this association is from NCBI PubMed. Disease COVID-19 resembles Disease multiple sclerosis and Provenance of this association is from NCBI PubMed. Disease COVID-19 resembles Disease nervous system disease and Provenance of this association is from NCBI PubMed. Disease COVID-19 resembles Disease breast cancer and Provenance of this association is from NCBI PubMed. Disease COVID-19 resembles Disease orbital disease and Provenance of this association is from NCBI PubMed. Disease COVID-19 resembles Disease pneumonia and Provenance of this association is from NCBI PubMed. Disease COVID-19 localizes Anatomy lung and Provenance of this association is from NCBI PubMed. Disease COVID-19 presents Symptom Olfaction Disorders and Provenance of this association is from NCBI PubMed.\""
      ]
     },
     "execution_count": 123,
     "metadata": {},
     "output_type": "execute_result"
    }
   ],
   "source": [
    "context"
   ]
  },
  {
   "cell_type": "code",
   "execution_count": null,
   "id": "420bac7d",
   "metadata": {},
   "outputs": [],
   "source": []
  }
 ],
 "metadata": {
  "kernelspec": {
   "display_name": "Python 3 (ipykernel)",
   "language": "python",
   "name": "python3"
  },
  "language_info": {
   "codemirror_mode": {
    "name": "ipython",
    "version": 3
   },
   "file_extension": ".py",
   "mimetype": "text/x-python",
   "name": "python",
   "nbconvert_exporter": "python",
   "pygments_lexer": "ipython3",
   "version": "3.10.9"
  }
 },
 "nbformat": 4,
 "nbformat_minor": 5
}
